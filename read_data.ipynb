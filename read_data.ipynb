{
 "cells": [
  {
   "cell_type": "code",
   "execution_count": 10,
   "metadata": {},
   "outputs": [
    {
     "name": "stdout",
     "output_type": "stream",
     "text": [
      "C_Programming\t\t     RC_2019-02.zst  covid.txt\t   post_covid.txt\n",
      "PushshiftToCSV-Java.ipynb    RC_2019-03.csv  cprogramming  pre_covid.txt\n",
      "PushshiftToCSV-Python.ipynb  RC_2019-03.zst  download.sh   pythontips\n",
      "PushshiftToCSV.ipynb\t     RC_2019-04.zst  getfiles.sh   wget-log\n",
      "Python\t\t\t     RC_2020-01.csv  javahelp\t   wget-log.1\n",
      "RC_2019-01.csv\t\t     RC_2020-01.zst  learnjava\t   wget-log.2\n",
      "RC_2019-01.zst\t\t     Untitled.ipynb  learnpython\n"
     ]
    }
   ],
   "source": [
    "!ls /jet/home/ngo/tmp_ondemand_ocean_tra180044p_symlink/shared/reddit_lang/raw/comments/"
   ]
  },
  {
   "cell_type": "code",
   "execution_count": null,
   "metadata": {},
   "outputs": [],
   "source": [
    "import os\n",
    "from glob import glob\n",
    "\n",
    "base_path = '/jet/home/ngo/tmp_ondemand_ocean_tra180044p_symlink/shared/reddit_lang/raw/comments/'\n",
    "subreddit = ['C_Programming','cprogramming']\n",
    "for sr in subreddit:\n",
    "    data_folder = os.path.join(\"/jet\", \"home\",\"ngo\",\"tmp_ondemand_ocean_tra180044p_symlink\",\n",
    "                               \"shared\",\"reddit_lang\",\"raw\",\"comments\",sr,\"*\")\n",
    "    print(data_folder)\n",
    "    file_list = glob(data_folder)\n",
    "    print(file_list)"
   ]
  },
  {
   "cell_type": "code",
   "execution_count": null,
   "metadata": {},
   "outputs": [],
   "source": []
  },
  {
   "cell_type": "code",
   "execution_count": 31,
   "metadata": {},
   "outputs": [
    {
     "name": "stdout",
     "output_type": "stream",
     "text": [
      "/jet/home/ngo/tmp_ondemand_ocean_tra180044p_symlink/shared/reddit_lang/raw/comments/C_Programming/*\n",
      "/jet/home/ngo/tmp_ondemand_ocean_tra180044p_symlink/shared/reddit_lang/raw/comments/C_Programming/C_Programming_2019_05_comments.csv\n"
     ]
    }
   ],
   "source": [
    "import os\n",
    "from glob import glob\n",
    "import re\n",
    "\n",
    "base_path = '/jet/home/ngo/tmp_ondemand_ocean_tra180044p_symlink/shared/reddit_lang/raw/comments/'\n",
    "subreddit = ['C_Programming','cprogramming']\n",
    "\n",
    "for sr in subreddit:\n",
    "    data_folder = os.path.join(\"/jet\", \"home\",\"ngo\",\"tmp_ondemand_ocean_tra180044p_symlink\",\n",
    "                               \"shared\",\"reddit_lang\",\"raw\",\"comments\",sr,\"*\")\n",
    "    print(data_folder)\n",
    "    file_list = glob(data_folder)\n",
    "    for one_month in file_list:\n",
    "        print(one_month)\n",
    "        data = open(one_month, 'r')\n",
    "        lines = data.readlines()\n",
    "        comments = []\n",
    "        comment = \"\"\n",
    "        p = re.compile('^\\[\\],')\n",
    "        for line in lines:\n",
    "            if p.match(line):\n",
    "                comments.append(comment)\n",
    "                comment = \"\"\n",
    "                comment = comment + line\n",
    "            else:\n",
    "                comment = comment + line\n",
    "        break     \n",
    "    break"
   ]
  },
  {
   "cell_type": "code",
   "execution_count": 32,
   "metadata": {},
   "outputs": [
    {
     "data": {
      "text/plain": [
       "3750"
      ]
     },
     "execution_count": 32,
     "metadata": {},
     "output_type": "execute_result"
    }
   ],
   "source": [
    "len(comments)"
   ]
  },
  {
   "cell_type": "code",
   "execution_count": 33,
   "metadata": {},
   "outputs": [
    {
     "name": "stdout",
     "output_type": "stream",
     "text": [
      "all_awardings,author,author_flair_background_color,author_flair_css_class,author_flair_richtext,author_flair_template_id,author_flair_text,author_flair_text_color,author_flair_type,author_fullname,author_patreon_flair,body,created_utc,gildings,id,is_submitter,link_id,locked,no_follow,parent_id,permalink,retrieved_on,score,send_replies,stickied,subreddit,subreddit_id,total_awards_received,updated_utc,author_cakeday,distinguished,edited,gilded\n",
      "\n",
      "=================================================\n",
      "[],italia389,,,[],,,,text,t2_r7uws,False,\"A few notes for you:\n",
      "\n",
      "1. Are you sure you want to use `CourseNode *allocateNodeTree(Course course)` instead of `CourseNode *allocateNodeTree(Course *pCourse)` (which is more efficient)?  Then change the assignment in the function to `pNew-&gt;course = *pCourse;`.\n",
      "2. You don't have a member in `Course` for the course name, which I assume is your main question/issue.  You need a `char *` for that and will have to `malloc()` a string for it (with the terminating null byte) separately in your `allocateNodeTree()` function and `strcpy()` it in.  (BTW, might not `createNode()` be a better name?)\n",
      "3. Once you have the course name member, you can `strcmp()` the names from each `Course` struct to compare courses in `insertTree()`.\n",
      "\n",
      "It would be good if you showed your code that calls `allocateNodeTree()` so that could be reviewed also.  You're almost there.\",1556945503,{},emgrd8z,False,t3_bk0hjv,False,True,t3_bk0hjv,/r/C_Programming/comments/bk0hjv/how_to_populate_binary_tree_with_strings/emgrd8z/,1556945504,1,True,False,C_Programming,t5_2qhoe,0,1557003438,,,,\n",
      "\n",
      "=================================================\n",
      "[],Objectstcetera,,,[],,,,text,t2_1z8ilnz9,False,\"The program needs to tell the difference between, for example, whether the varaibles in the argument list are expecting the characters '1','0', or the string \"\"10\"\".\n",
      "\n",
      "The stdarg man page (for Linux at least) does have a good example of how to use format specifiers to interpret data for a variable argument list.\",1556942641,{},emgork5,False,t3_bjth89,False,True,t3_bjth89,/r/C_Programming/comments/bjth89/why_do_we_need_if_really_do_need_though_to/emgork5/,1556942642,1,True,False,C_Programming,t5_2qhoe,0,1557002108,,,,\n",
      "\n",
      "=================================================\n",
      "[],Objectstcetera,,,[],,,,text,t2_1z8ilnz9,False,\"A sigaction call should provide better control over the handler's behavior than sifnal , e.g. making the handler reset automatically to the default after it's used (one shot), how child processes respond, and lots of other stuff.\n",
      "\n",
      "When a system call gets interrupted by a signal, the action can (but need not always, it depends on the call) cause errno to be set to EINTR, which the program can check.  The signal(7) man page details this, and the system calls' individual man pages should indicate whether  the call is restartable.\",1556941436,{},emgnkms,False,t3_bjntzi,False,True,t3_bjntzi,/r/C_Programming/comments/bjntzi/handling_ctrlc/emgnkms/,1556941437,1,True,False,C_Programming,t5_2qhoe,0,1557001493,,,,\n",
      "\n",
      "=================================================\n",
      "[],Mac33,,,[],,,,text,t2_7mlae,False,What do you not like about their videos?,1556940608,{},emgmqam,False,t3_bkbyhe,False,True,t1_emfjgit,/r/C_Programming/comments/bkbyhe/how_do_i_inject_code_with_a_buffer_overflow_attack/emgmqam/,1556940609,11,True,False,C_Programming,t5_2qhoe,0,1557001043,True,,,\n",
      "\n",
      "=================================================\n"
     ]
    }
   ],
   "source": [
    "for i in range(5):\n",
    "    print(comments[i])\n",
    "    print(\"=================================================\")"
   ]
  },
  {
   "cell_type": "code",
   "execution_count": null,
   "metadata": {},
   "outputs": [],
   "source": [
    "   \n",
    "        count = 0\n",
    "        # Strips the newline character\n",
    "        for line in Lines:\n",
    "            count += 1\n",
    "            print(\"Line{}: {}\".format(count, line.strip()))"
   ]
  },
  {
   "cell_type": "code",
   "execution_count": 17,
   "metadata": {},
   "outputs": [
    {
     "name": "stdout",
     "output_type": "stream",
     "text": [
      "3750\n"
     ]
    }
   ],
   "source": [
    "!cat ~/tmp_ondemand_ocean_tra180044p_symlink/shared/reddit_lang/raw/comments/C_Programming/C_Programming_2019_05_comments.csv | grep \"^\\[\\],\" | wc -l"
   ]
  },
  {
   "cell_type": "code",
   "execution_count": 15,
   "metadata": {},
   "outputs": [
    {
     "name": "stdout",
     "output_type": "stream",
     "text": [
      "3661\n"
     ]
    }
   ],
   "source": [
    "!cat ~/tmp_ondemand_ocean_tra180044p_symlink/shared/reddit_lang/raw/comments/C_Programming/C_Programming_2019_05_comments.csv | grep -E \",,,,$\" | wc -l\n"
   ]
  },
  {
   "cell_type": "code",
   "execution_count": 18,
   "metadata": {},
   "outputs": [
    {
     "name": "stdout",
     "output_type": "stream",
     "text": [
      "3729\n"
     ]
    }
   ],
   "source": [
    "!cat ~/tmp_ondemand_ocean_tra180044p_symlink/shared/reddit_lang/raw/comments/C_Programming/C_Programming_2019_05_comments.csv | grep -E \",,,\\[\\],,,,\" | wc -l"
   ]
  },
  {
   "cell_type": "code",
   "execution_count": 19,
   "metadata": {},
   "outputs": [],
   "source": [
    "import re\n",
    "p = re.compile('^\\[\\],')"
   ]
  },
  {
   "cell_type": "code",
   "execution_count": 24,
   "metadata": {},
   "outputs": [],
   "source": [
    "s = \"[],italia389,,,[],,,,text,t2_r7uws,False,A few notes for you:\""
   ]
  },
  {
   "cell_type": "code",
   "execution_count": 25,
   "metadata": {},
   "outputs": [
    {
     "data": {
      "text/plain": [
       "<re.Match object; span=(0, 3), match='[],'>"
      ]
     },
     "execution_count": 25,
     "metadata": {},
     "output_type": "execute_result"
    }
   ],
   "source": [
    "p.match(s)"
   ]
  },
  {
   "cell_type": "markdown",
   "metadata": {},
   "source": [
    "### Is covid mentioned anywhere?"
   ]
  },
  {
   "cell_type": "code",
   "execution_count": 60,
   "metadata": {},
   "outputs": [
    {
     "name": "stdout",
     "output_type": "stream",
     "text": [
      "/jet/home/ngo/tmp_ondemand_ocean_tra180044p_symlink/shared/reddit_lang/raw/comments/C_Programming/*\n",
      "/jet/home/ngo/tmp_ondemand_ocean_tra180044p_symlink/shared/reddit_lang/raw/comments/C_Programming/C_Programming_2019_05_comments.csv\n",
      "0\n",
      "/jet/home/ngo/tmp_ondemand_ocean_tra180044p_symlink/shared/reddit_lang/raw/comments/C_Programming/C_Programming_2020_05_comments.csv\n",
      "https://github.com/kassonlab/covid19-epi\n",
      "\n",
      "    (...)@login-4:~(...)/build$ gdb covid19\n",
      "\n",
      "    Reading symbols from covid19...done.\n",
      "\n",
      "I'm making a simple tiktaktoe (text-based) to practice my C (my  school is closed due to covid, so i need to practice myself), it works well but it seems quite overkill, and i don't want to use ncurses to render the \"\"graphics of my game\"\"\n",
      "\n",
      "[],,Evanawesome123,,,[],,,,text,t2_12bdvc,False,False,[], I don't know what that means I have limited knowledge of programming as my class was cut short because of covid.,,1588863766,{},fprx967,True,t3_gf8002,False,True,t1_fprwyyd,/r/C_Programming/comments/gf8002/extending_the_array_and_adding_variables/fprx967/,1588863768,1,True,False,C_Programming,t5_2qhoe,0,[],,,,\n",
      "\n",
      "Reading symbols from covid19...done.\n",
      "\n",
      "6\n",
      "/jet/home/ngo/tmp_ondemand_ocean_tra180044p_symlink/shared/reddit_lang/raw/comments/C_Programming/C_Programming_2021_05_comments.csv\n",
      "0\n",
      "/jet/home/ngo/tmp_ondemand_ocean_tra180044p_symlink/shared/reddit_lang/raw/comments/C_Programming/C_Programming_2020_11_comments.csv\n",
      "0\n",
      "/jet/home/ngo/tmp_ondemand_ocean_tra180044p_symlink/shared/reddit_lang/raw/comments/C_Programming/C_Programming_2019_12_comments.csv\n",
      "0\n",
      "/jet/home/ngo/tmp_ondemand_ocean_tra180044p_symlink/shared/reddit_lang/raw/comments/C_Programming/C_Programming_2020_08_comments.csv\n",
      "[],,Drach88,,,[],,,,text,t2_890cu,False,True,[],\"You seem like the kind of person who wore mask and gloves *before* covid, and bathed in hand sanitizer twice daily.\n",
      "\n",
      "1\n",
      "/jet/home/ngo/tmp_ondemand_ocean_tra180044p_symlink/shared/reddit_lang/raw/comments/C_Programming/C_Programming_2019_01_comments.csv\n",
      "0\n",
      "/jet/home/ngo/tmp_ondemand_ocean_tra180044p_symlink/shared/reddit_lang/raw/comments/C_Programming/C_Programming_2021_06_comments.csv\n",
      "0\n",
      "/jet/home/ngo/tmp_ondemand_ocean_tra180044p_symlink/shared/reddit_lang/raw/comments/C_Programming/C_Programming_2020_01_comments.csv\n",
      "0\n",
      "/jet/home/ngo/tmp_ondemand_ocean_tra180044p_symlink/shared/reddit_lang/raw/comments/C_Programming/C_Programming_2020_07_comments.csv\n",
      "0\n",
      "/jet/home/ngo/tmp_ondemand_ocean_tra180044p_symlink/shared/reddit_lang/raw/comments/C_Programming/C_Programming_2020_06_comments.csv\n",
      "e.g. you could put a temp sensor in a covid-19 facemask and make different colored LEDs light up when a user exhales warm air versus when they inhale warmer air. \n",
      "\n",
      "1\n",
      "/jet/home/ngo/tmp_ondemand_ocean_tra180044p_symlink/shared/reddit_lang/raw/comments/C_Programming/C_Programming_2020_02_comments.csv\n",
      "0\n",
      "/jet/home/ngo/tmp_ondemand_ocean_tra180044p_symlink/shared/reddit_lang/raw/comments/C_Programming/C_Programming_2020_12_comments.csv\n",
      "0\n",
      "/jet/home/ngo/tmp_ondemand_ocean_tra180044p_symlink/shared/reddit_lang/raw/comments/C_Programming/C_Programming_2019_06_comments.csv\n",
      "0\n",
      "/jet/home/ngo/tmp_ondemand_ocean_tra180044p_symlink/shared/reddit_lang/raw/comments/C_Programming/C_Programming_2019_10_comments.csv\n",
      "0\n",
      "/jet/home/ngo/tmp_ondemand_ocean_tra180044p_symlink/shared/reddit_lang/raw/comments/C_Programming/C_Programming_2019_09_comments.csv\n",
      "0\n",
      "/jet/home/ngo/tmp_ondemand_ocean_tra180044p_symlink/shared/reddit_lang/raw/comments/C_Programming/C_Programming_2020_09_comments.csv\n",
      "0\n",
      "/jet/home/ngo/tmp_ondemand_ocean_tra180044p_symlink/shared/reddit_lang/raw/comments/C_Programming/C_Programming_2021_04_comments.csv\n",
      "[],,tothefukinmoon,,,[],,,,text,t2_a0ujgxip,False,False,[],im trying to share the wealth for people who wanna make some money during covid stop hatin,,,1617470953,{},gt9hzko,True,t3_mjcqx5,False,True,t1_gt9ghd1,/r/C_Programming/comments/mjcqx5/ravencoin_is_looking_for_developers_in_c/gt9hzko/,1617470964,1,True,False,C_Programming,t5_2qhoe,,0,[],,\n",
      "\n",
      "I will put this on soft skills slides training after covid!\",,,1618773211,{},guzymj6,True,t3_msoc8e,False,True,t1_guzk38x,/r/C_Programming/comments/msoc8e/c99_safe_static_array_dereference_library/guzymj6/,1618775156,0,True,False,C_Programming,t5_2qhoe,,0,[],,\n",
      "\n",
      "[],,The-Ace4868,,,[],,,,text,t2_63uzifkf,False,False,[],Idk about special skills 😭.this is the first coding class I’ve ever taken and this year I didn’t learn anything in online class cause of covid so everything I do is from this 10 hour c++ video I watched. Hate it,,,1617947501,{},gtwgdgh,True,t3_mn28i8,False,True,t1_gtv8mjz,/r/C_Programming/comments/mn28i8/i_had_to_make_a_program_for_the_lost_boarding/gtwgdgh/,1617947511,1,True,False,C_Programming,t5_2qhoe,,0,[],,\n",
      "\n",
      "3\n",
      "/jet/home/ngo/tmp_ondemand_ocean_tra180044p_symlink/shared/reddit_lang/raw/comments/C_Programming/C_Programming_2019_02_comments.csv\n",
      "0\n",
      "/jet/home/ngo/tmp_ondemand_ocean_tra180044p_symlink/shared/reddit_lang/raw/comments/C_Programming/C_Programming_2020_10_comments.csv\n",
      "0\n",
      "/jet/home/ngo/tmp_ondemand_ocean_tra180044p_symlink/shared/reddit_lang/raw/comments/C_Programming/C_Programming_2021_03_comments.csv\n",
      "0\n",
      "/jet/home/ngo/tmp_ondemand_ocean_tra180044p_symlink/shared/reddit_lang/raw/comments/C_Programming/C_Programming_2019_04_comments.csv\n",
      "0\n",
      "/jet/home/ngo/tmp_ondemand_ocean_tra180044p_symlink/shared/reddit_lang/raw/comments/C_Programming/C_Programming_2020_03_comments.csv\n",
      "0\n",
      "/jet/home/ngo/tmp_ondemand_ocean_tra180044p_symlink/shared/reddit_lang/raw/comments/C_Programming/C_Programming_2021_02_comments.csv\n",
      "0\n",
      "/jet/home/ngo/tmp_ondemand_ocean_tra180044p_symlink/shared/reddit_lang/raw/comments/C_Programming/C_Programming_2021_01_comments.csv\n",
      "[],,XdoseoffreedomX,,,[],,,,text,t2_6864y64p,False,False,[],Yeah covid has made things tougher. What bothers you the most about covid effecting this area of your life and staying More indoors?,,,1611455222,{},gkhf0kl,True,t3_l3q6r1,False,True,t1_gkheij4,/r/C_Programming/comments/l3q6r1/computer_programming_and_my_difficulty_with/gkhf0kl/,1611642594,1,True,False,C_Programming,t5_2qhoe,,0,[],,\n",
      "\n",
      "1\n",
      "/jet/home/ngo/tmp_ondemand_ocean_tra180044p_symlink/shared/reddit_lang/raw/comments/C_Programming/C_Programming_2020_04_comments.csv\n",
      "Was looking for internships, but now covid... Any suggestions? Not giving up on the internship stuff, but at the same time, who would hire an intern to do remote work? We can't be trusted enough for that yet; we need that supervision and guided development. That's the whole point.\",,1587506810,{},fo4lxgu,False,t3_g5ia4x,False,True,t1_fo3qge0,/r/C_Programming/comments/g5ia4x/how_to_move_on_to_the_next_level/fo4lxgu/,1587512868,5,True,False,C_Programming,t5_2qhoe,0,[],,,\n",
      "\n",
      "\tstruct covid_19* next;\n",
      "\n",
      "} covid_19 ;\n",
      "\n",
      "typedef covid_19 node;\n",
      "\n",
      "\tcovid_19 first;\n",
      "\n",
      "\tstruct covid_19* n = NULL;\n",
      "\n",
      "\tn = (struct covid_19*)malloc(sizeof(covid_19));\n",
      "\n",
      "\t\t\tcovid_19* next = NULL;\n",
      "\n",
      "8\n",
      "/jet/home/ngo/tmp_ondemand_ocean_tra180044p_symlink/shared/reddit_lang/raw/comments/C_Programming/C_Programming_2019_03_comments.csv\n",
      "0\n",
      "/jet/home/ngo/tmp_ondemand_ocean_tra180044p_symlink/shared/reddit_lang/raw/comments/C_Programming/C_Programming_2019_07_comments.csv\n",
      "0\n",
      "/jet/home/ngo/tmp_ondemand_ocean_tra180044p_symlink/shared/reddit_lang/raw/comments/C_Programming/C_Programming_2019_08_comments.csv\n",
      "0\n",
      "/jet/home/ngo/tmp_ondemand_ocean_tra180044p_symlink/shared/reddit_lang/raw/comments/C_Programming/C_Programming_2019_11_comments.csv\n",
      "0\n"
     ]
    }
   ],
   "source": [
    "import os\n",
    "from glob import glob\n",
    "\n",
    "base_path = '/jet/home/ngo/tmp_ondemand_ocean_tra180044p_symlink/shared/reddit_lang/raw/comments/'\n",
    "#subreddit = ['C_Programming','cprogramming','Python','javahelp','learnjava']\n",
    "\n",
    "subreddit = ['C_Programming']\n",
    "for sr in subreddit:\n",
    "    data_folder = os.path.join(\"/jet\", \"home\",\"ngo\",\"tmp_ondemand_ocean_tra180044p_symlink\",\n",
    "                               \"shared\",\"reddit_lang\",\"raw\",\"comments\",sr,\"*\")\n",
    "    print(data_folder)\n",
    "    file_list = glob(data_folder)\n",
    "    for one_month in file_list:\n",
    "        print(one_month)\n",
    "        data = open(one_month, 'r')\n",
    "        lines = data.readlines()\n",
    "        counter = 0\n",
    "        for line in lines:\n",
    "            if \"covid\" in line:\n",
    "                counter = counter + 1\n",
    "                print(line)\n",
    "        print(counter)"
   ]
  },
  {
   "cell_type": "code",
   "execution_count": 41,
   "metadata": {},
   "outputs": [
    {
     "data": {
      "text/plain": [
       "True"
      ]
     },
     "execution_count": 41,
     "metadata": {},
     "output_type": "execute_result"
    }
   ],
   "source": [
    "s = \"adadfadfafdfCovidadadfafdadfad\"\n",
    "\"Covid\" in s"
   ]
  },
  {
   "cell_type": "code",
   "execution_count": null,
   "metadata": {},
   "outputs": [],
   "source": []
  }
 ],
 "metadata": {
  "kernelspec": {
   "display_name": "Python 3",
   "language": "python",
   "name": "python3"
  },
  "language_info": {
   "codemirror_mode": {
    "name": "ipython",
    "version": 3
   },
   "file_extension": ".py",
   "mimetype": "text/x-python",
   "name": "python",
   "nbconvert_exporter": "python",
   "pygments_lexer": "ipython3",
   "version": "3.8.5"
  }
 },
 "nbformat": 4,
 "nbformat_minor": 4
}
