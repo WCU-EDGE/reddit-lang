{
 "cells": [
  {
   "cell_type": "code",
   "execution_count": 27,
   "metadata": {
    "scrolled": true
   },
   "outputs": [
    {
     "name": "stdout",
     "output_type": "stream",
     "text": [
      "Defaulting to user installation because normal site-packages is not writeable\n",
      "Requirement already satisfied: pmaw in /jet/home/kdpetro/.local/lib/python3.8/site-packages (2.1.3)\n",
      "Requirement already satisfied: pandas in /jet/packages/anaconda3/lib/python3.8/site-packages (1.1.3)\n",
      "Requirement already satisfied: praw in /jet/home/kdpetro/.local/lib/python3.8/site-packages (from pmaw) (7.5.0)\n",
      "Requirement already satisfied: requests in /jet/packages/anaconda3/lib/python3.8/site-packages (from pmaw) (2.24.0)\n",
      "Requirement already satisfied: numpy>=1.15.4 in /jet/packages/anaconda3/lib/python3.8/site-packages (from pandas) (1.19.2)\n",
      "Requirement already satisfied: pytz>=2017.2 in /jet/packages/anaconda3/lib/python3.8/site-packages (from pandas) (2020.1)\n",
      "Requirement already satisfied: python-dateutil>=2.7.3 in /jet/packages/anaconda3/lib/python3.8/site-packages (from pandas) (2.8.1)\n",
      "Requirement already satisfied: prawcore<3,>=2.1 in /jet/home/kdpetro/.local/lib/python3.8/site-packages (from praw->pmaw) (2.3.0)\n",
      "Requirement already satisfied: websocket-client>=0.54.0 in /jet/home/kdpetro/.local/lib/python3.8/site-packages (from praw->pmaw) (1.3.1)\n",
      "Requirement already satisfied: update-checker>=0.18 in /jet/home/kdpetro/.local/lib/python3.8/site-packages (from praw->pmaw) (0.18.0)\n",
      "Requirement already satisfied: certifi>=2017.4.17 in /jet/packages/anaconda3/lib/python3.8/site-packages (from requests->pmaw) (2020.6.20)\n",
      "Requirement already satisfied: chardet<4,>=3.0.2 in /jet/packages/anaconda3/lib/python3.8/site-packages (from requests->pmaw) (3.0.4)\n",
      "Requirement already satisfied: idna<3,>=2.5 in /jet/packages/anaconda3/lib/python3.8/site-packages (from requests->pmaw) (2.10)\n",
      "Requirement already satisfied: urllib3!=1.25.0,!=1.25.1,<1.26,>=1.21.1 in /jet/packages/anaconda3/lib/python3.8/site-packages (from requests->pmaw) (1.25.11)\n",
      "Requirement already satisfied: six>=1.5 in /jet/packages/anaconda3/lib/python3.8/site-packages (from python-dateutil>=2.7.3->pandas) (1.15.0)\n",
      "Note: you may need to restart the kernel to use updated packages.\n"
     ]
    }
   ],
   "source": [
    "pip install pmaw pandas"
   ]
  },
  {
   "cell_type": "code",
   "execution_count": 31,
   "metadata": {},
   "outputs": [],
   "source": [
    "# https://medium.com/swlh/how-to-scrape-large-amounts-of-reddit-data-using-pushshift-1d33bde9286\n",
    "import pandas as pd\n",
    "from pmaw import PushshiftAPI\n",
    "api = PushshiftAPI()"
   ]
  },
  {
   "cell_type": "code",
   "execution_count": 32,
   "metadata": {},
   "outputs": [],
   "source": [
    "# Set timeline for data\n",
    "import datetime as dt\n",
    "# before = 1551398400\n",
    "# after = 1554076799\n",
    "before = int(dt.datetime(2019,3,31,23,59).timestamp())\n",
    "after = int(dt.datetime(2019,3,1,0,0).timestamp())"
   ]
  },
  {
   "cell_type": "code",
   "execution_count": 33,
   "metadata": {
    "scrolled": false
   },
   "outputs": [
    {
     "name": "stderr",
     "output_type": "stream",
     "text": [
      "Not all PushShift shards are active. Query results may be incomplete.\n",
      "Not all PushShift shards are active. Query results may be incomplete.\n",
      "Not all PushShift shards are active. Query results may be incomplete.\n",
      "Not all PushShift shards are active. Query results may be incomplete.\n",
      "Not all PushShift shards are active. Query results may be incomplete.\n",
      "Not all PushShift shards are active. Query results may be incomplete.\n",
      "Not all PushShift shards are active. Query results may be incomplete.\n"
     ]
    },
    {
     "name": "stdout",
     "output_type": "stream",
     "text": [
      "Retrieved 3707 comments from Pushshift\n"
     ]
    }
   ],
   "source": [
    "# Set subreddit and parameters\n",
    "subreddit=\"C_Programming\"\n",
    "limit=100000\n",
    "comments = api.search_comments(subreddit=subreddit, limit=limit, before=before, after=after)\n",
    "print(f'Retrieved {len(comments)} comments from Pushshift')"
   ]
  },
  {
   "cell_type": "code",
   "execution_count": 5,
   "metadata": {
    "scrolled": true
   },
   "outputs": [
    {
     "data": {
      "text/html": [
       "<div>\n",
       "<style scoped>\n",
       "    .dataframe tbody tr th:only-of-type {\n",
       "        vertical-align: middle;\n",
       "    }\n",
       "\n",
       "    .dataframe tbody tr th {\n",
       "        vertical-align: top;\n",
       "    }\n",
       "\n",
       "    .dataframe thead th {\n",
       "        text-align: right;\n",
       "    }\n",
       "</style>\n",
       "<table border=\"1\" class=\"dataframe\">\n",
       "  <thead>\n",
       "    <tr style=\"text-align: right;\">\n",
       "      <th></th>\n",
       "      <th>author</th>\n",
       "      <th>author_flair_background_color</th>\n",
       "      <th>author_flair_css_class</th>\n",
       "      <th>author_flair_richtext</th>\n",
       "      <th>author_flair_template_id</th>\n",
       "      <th>author_flair_text</th>\n",
       "      <th>author_flair_text_color</th>\n",
       "      <th>author_flair_type</th>\n",
       "      <th>author_fullname</th>\n",
       "      <th>author_patreon_flair</th>\n",
       "      <th>...</th>\n",
       "      <th>permalink</th>\n",
       "      <th>retrieved_on</th>\n",
       "      <th>score</th>\n",
       "      <th>send_replies</th>\n",
       "      <th>stickied</th>\n",
       "      <th>subreddit</th>\n",
       "      <th>subreddit_id</th>\n",
       "      <th>author_cakeday</th>\n",
       "      <th>is_submitter</th>\n",
       "      <th>updated_utc</th>\n",
       "    </tr>\n",
       "  </thead>\n",
       "  <tbody>\n",
       "    <tr>\n",
       "      <th>0</th>\n",
       "      <td>seattlefunk</td>\n",
       "      <td>None</td>\n",
       "      <td>None</td>\n",
       "      <td>[]</td>\n",
       "      <td>None</td>\n",
       "      <td>None</td>\n",
       "      <td>None</td>\n",
       "      <td>text</td>\n",
       "      <td>t2_n59ma</td>\n",
       "      <td>False</td>\n",
       "      <td>...</td>\n",
       "      <td>/r/C_Programming/comments/ax47qp/can_someone_e...</td>\n",
       "      <td>1551683854</td>\n",
       "      <td>1</td>\n",
       "      <td>True</td>\n",
       "      <td>False</td>\n",
       "      <td>C_Programming</td>\n",
       "      <td>t5_2qhoe</td>\n",
       "      <td>NaN</td>\n",
       "      <td>NaN</td>\n",
       "      <td>NaN</td>\n",
       "    </tr>\n",
       "    <tr>\n",
       "      <th>1</th>\n",
       "      <td>WrongPerlman</td>\n",
       "      <td>None</td>\n",
       "      <td>None</td>\n",
       "      <td>[]</td>\n",
       "      <td>None</td>\n",
       "      <td>None</td>\n",
       "      <td>None</td>\n",
       "      <td>text</td>\n",
       "      <td>t2_2uw1x9d4</td>\n",
       "      <td>False</td>\n",
       "      <td>...</td>\n",
       "      <td>/r/C_Programming/comments/ax4294/help_me_crack...</td>\n",
       "      <td>1551681971</td>\n",
       "      <td>1</td>\n",
       "      <td>True</td>\n",
       "      <td>False</td>\n",
       "      <td>C_Programming</td>\n",
       "      <td>t5_2qhoe</td>\n",
       "      <td>NaN</td>\n",
       "      <td>NaN</td>\n",
       "      <td>NaN</td>\n",
       "    </tr>\n",
       "    <tr>\n",
       "      <th>2</th>\n",
       "      <td>oh5nxo</td>\n",
       "      <td>None</td>\n",
       "      <td>None</td>\n",
       "      <td>[]</td>\n",
       "      <td>None</td>\n",
       "      <td>None</td>\n",
       "      <td>None</td>\n",
       "      <td>text</td>\n",
       "      <td>t2_239cx8cy</td>\n",
       "      <td>False</td>\n",
       "      <td>...</td>\n",
       "      <td>/r/C_Programming/comments/awwfp1/arrays_why_is...</td>\n",
       "      <td>1551679848</td>\n",
       "      <td>1</td>\n",
       "      <td>True</td>\n",
       "      <td>False</td>\n",
       "      <td>C_Programming</td>\n",
       "      <td>t5_2qhoe</td>\n",
       "      <td>NaN</td>\n",
       "      <td>NaN</td>\n",
       "      <td>NaN</td>\n",
       "    </tr>\n",
       "    <tr>\n",
       "      <th>3</th>\n",
       "      <td>16261854</td>\n",
       "      <td>None</td>\n",
       "      <td>None</td>\n",
       "      <td>[]</td>\n",
       "      <td>None</td>\n",
       "      <td>None</td>\n",
       "      <td>None</td>\n",
       "      <td>text</td>\n",
       "      <td>t2_15xw49</td>\n",
       "      <td>False</td>\n",
       "      <td>...</td>\n",
       "      <td>/r/C_Programming/comments/awu4sp/using_a_funct...</td>\n",
       "      <td>1551679273</td>\n",
       "      <td>1</td>\n",
       "      <td>True</td>\n",
       "      <td>False</td>\n",
       "      <td>C_Programming</td>\n",
       "      <td>t5_2qhoe</td>\n",
       "      <td>NaN</td>\n",
       "      <td>NaN</td>\n",
       "      <td>NaN</td>\n",
       "    </tr>\n",
       "    <tr>\n",
       "      <th>4</th>\n",
       "      <td>Drach88</td>\n",
       "      <td>None</td>\n",
       "      <td>None</td>\n",
       "      <td>[]</td>\n",
       "      <td>None</td>\n",
       "      <td>None</td>\n",
       "      <td>None</td>\n",
       "      <td>text</td>\n",
       "      <td>t2_890cu</td>\n",
       "      <td>False</td>\n",
       "      <td>...</td>\n",
       "      <td>/r/C_Programming/comments/ax21lb/why_wont_my_s...</td>\n",
       "      <td>1551678596</td>\n",
       "      <td>1</td>\n",
       "      <td>True</td>\n",
       "      <td>False</td>\n",
       "      <td>C_Programming</td>\n",
       "      <td>t5_2qhoe</td>\n",
       "      <td>NaN</td>\n",
       "      <td>NaN</td>\n",
       "      <td>NaN</td>\n",
       "    </tr>\n",
       "  </tbody>\n",
       "</table>\n",
       "<p>5 rows × 27 columns</p>\n",
       "</div>"
      ],
      "text/plain": [
       "         author author_flair_background_color author_flair_css_class  \\\n",
       "0   seattlefunk                          None                   None   \n",
       "1  WrongPerlman                          None                   None   \n",
       "2        oh5nxo                          None                   None   \n",
       "3      16261854                          None                   None   \n",
       "4       Drach88                          None                   None   \n",
       "\n",
       "  author_flair_richtext author_flair_template_id author_flair_text  \\\n",
       "0                    []                     None              None   \n",
       "1                    []                     None              None   \n",
       "2                    []                     None              None   \n",
       "3                    []                     None              None   \n",
       "4                    []                     None              None   \n",
       "\n",
       "  author_flair_text_color author_flair_type author_fullname  \\\n",
       "0                    None              text        t2_n59ma   \n",
       "1                    None              text     t2_2uw1x9d4   \n",
       "2                    None              text     t2_239cx8cy   \n",
       "3                    None              text       t2_15xw49   \n",
       "4                    None              text        t2_890cu   \n",
       "\n",
       "  author_patreon_flair  ...  \\\n",
       "0                False  ...   \n",
       "1                False  ...   \n",
       "2                False  ...   \n",
       "3                False  ...   \n",
       "4                False  ...   \n",
       "\n",
       "                                           permalink  retrieved_on score  \\\n",
       "0  /r/C_Programming/comments/ax47qp/can_someone_e...    1551683854     1   \n",
       "1  /r/C_Programming/comments/ax4294/help_me_crack...    1551681971     1   \n",
       "2  /r/C_Programming/comments/awwfp1/arrays_why_is...    1551679848     1   \n",
       "3  /r/C_Programming/comments/awu4sp/using_a_funct...    1551679273     1   \n",
       "4  /r/C_Programming/comments/ax21lb/why_wont_my_s...    1551678596     1   \n",
       "\n",
       "  send_replies stickied      subreddit subreddit_id author_cakeday  \\\n",
       "0         True    False  C_Programming     t5_2qhoe            NaN   \n",
       "1         True    False  C_Programming     t5_2qhoe            NaN   \n",
       "2         True    False  C_Programming     t5_2qhoe            NaN   \n",
       "3         True    False  C_Programming     t5_2qhoe            NaN   \n",
       "4         True    False  C_Programming     t5_2qhoe            NaN   \n",
       "\n",
       "   is_submitter  updated_utc  \n",
       "0           NaN          NaN  \n",
       "1           NaN          NaN  \n",
       "2           NaN          NaN  \n",
       "3           NaN          NaN  \n",
       "4           NaN          NaN  \n",
       "\n",
       "[5 rows x 27 columns]"
      ]
     },
     "execution_count": 5,
     "metadata": {},
     "output_type": "execute_result"
    }
   ],
   "source": [
    "comments_df = pd.DataFrame(comments)\n",
    "# preview the comments data\n",
    "comments_df.head(5)"
   ]
  },
  {
   "cell_type": "code",
   "execution_count": 6,
   "metadata": {},
   "outputs": [],
   "source": [
    "# Set directory and file name for data\n",
    "comments_df.to_csv('./C_Programming/C_Programming_March_2019_comments.csv', header=True, index=False, columns=list(comments_df.axes[1]))"
   ]
  },
  {
   "cell_type": "code",
   "execution_count": 14,
   "metadata": {},
   "outputs": [
    {
     "data": {
      "text/plain": [
       "Index(['author', 'author_flair_background_color', 'author_flair_css_class',\n",
       "       'author_flair_richtext', 'author_flair_template_id',\n",
       "       'author_flair_text', 'author_flair_text_color', 'author_flair_type',\n",
       "       'author_fullname', 'author_patreon_flair', 'body', 'created_utc',\n",
       "       'gildings', 'id', 'link_id', 'no_follow', 'parent_id', 'permalink',\n",
       "       'retrieved_on', 'score', 'send_replies', 'stickied', 'subreddit',\n",
       "       'subreddit_id', 'author_cakeday', 'is_submitter', 'updated_utc'],\n",
       "      dtype='object')"
      ]
     },
     "execution_count": 14,
     "metadata": {},
     "output_type": "execute_result"
    }
   ],
   "source": [
    "comments_df.columns"
   ]
  },
  {
   "cell_type": "code",
   "execution_count": 15,
   "metadata": {},
   "outputs": [
    {
     "data": {
      "text/plain": [
       "0        t3_ax47qp\n",
       "1        t3_ax4294\n",
       "2       t1_ehqadaz\n",
       "3       t1_ehpki0f\n",
       "4        t3_ax21lb\n",
       "           ...    \n",
       "3702     t3_b5vje0\n",
       "3703     t3_b5vje0\n",
       "3704    t1_ejh45fr\n",
       "3705    t1_ejg6hev\n",
       "3706     t3_b4amkk\n",
       "Name: parent_id, Length: 3707, dtype: object"
      ]
     },
     "execution_count": 15,
     "metadata": {},
     "output_type": "execute_result"
    }
   ],
   "source": [
    "comments_df['parent_id']"
   ]
  },
  {
   "cell_type": "code",
   "execution_count": 19,
   "metadata": {},
   "outputs": [
    {
     "data": {
      "text/plain": [
       "2172"
      ]
     },
     "execution_count": 19,
     "metadata": {},
     "output_type": "execute_result"
    }
   ],
   "source": [
    "len(comments_df['parent_id'].unique())"
   ]
  },
  {
   "cell_type": "code",
   "execution_count": 22,
   "metadata": {},
   "outputs": [
    {
     "data": {
      "text/plain": [
       "1083    1551419388\n",
       "1082    1551420054\n",
       "1081    1551424974\n",
       "1080    1551429111\n",
       "1079    1551432163\n",
       "           ...    \n",
       "801     1554087053\n",
       "800     1554087124\n",
       "799     1554087502\n",
       "798     1554088512\n",
       "797     1554089425\n",
       "Name: created_utc, Length: 3707, dtype: int64"
      ]
     },
     "execution_count": 22,
     "metadata": {},
     "output_type": "execute_result"
    }
   ],
   "source": [
    "comments_df.sort_values(['created_utc'])['created_utc']"
   ]
  },
  {
   "cell_type": "code",
   "execution_count": null,
   "metadata": {},
   "outputs": [],
   "source": []
  }
 ],
 "metadata": {
  "kernelspec": {
   "display_name": "Python 3",
   "language": "python",
   "name": "python3"
  },
  "language_info": {
   "codemirror_mode": {
    "name": "ipython",
    "version": 3
   },
   "file_extension": ".py",
   "mimetype": "text/x-python",
   "name": "python",
   "nbconvert_exporter": "python",
   "pygments_lexer": "ipython3",
   "version": "3.8.5"
  }
 },
 "nbformat": 4,
 "nbformat_minor": 4
}
