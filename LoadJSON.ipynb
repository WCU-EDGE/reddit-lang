{
 "cells": [
  {
   "cell_type": "code",
   "execution_count": 23,
   "id": "97ded968-7541-4d47-a772-661da3e3ee24",
   "metadata": {},
   "outputs": [],
   "source": [
    "import json"
   ]
  },
  {
   "cell_type": "code",
   "execution_count": 37,
   "id": "e8a411f7-331c-405e-857a-057ed5737247",
   "metadata": {},
   "outputs": [
    {
     "name": "stdout",
     "output_type": "stream",
     "text": [
      "{'subreddit': 'reddit.com', 'score': 3, 'ups': 3, 'author_flair_css_class': None, 'created_utc': 1167609605, 'body': \"In the city I live in, I probably am.  Might even be the entire island.  Ah well.  It's one thing to know that somewhere, out there over the Internet, there are many like me.  It's another thing to know someone, in my everyday life off the internet, who is like me too.\\r\\n\\r\\nPixels on a screen just aren't enough.\\r\\n\\r\\nLife is a sadness.  But what else can we do but live it?  Life is a happiness.  But what else can we do but endure it?\\r\\n\", 'controversiality': 0, 'subreddit_id': 't5_6', 'link_id': 't3_wiw8', 'stickied': False, 'gilded': 0, 'distinguished': None, 'retrieved_on': 1473809765, 'author': 'almkglor', 'author_flair_text': None, 'id': 'cwl3r', 'edited': False, 'parent_id': 't1_cwjuc'}\n"
     ]
    }
   ],
   "source": [
    "f = open(u'reddit_data/RC_2007-01', 'r')\n",
    "\n",
    "data = []\n",
    "\n",
    "raw_lines = f.readlines()\n",
    " \n",
    "count = 0\n",
    "# Strips the newline character\n",
    "for line in raw_lines:\n",
    "    count += 1\n",
    "    data.append(json.loads(line))\n",
    "    \n",
    "print(data[0])\n",
    "\n",
    "keyValList = ['java']\n",
    "python_list = [d for d in data if d['subreddit'] in keyValList]"
   ]
  },
  {
   "cell_type": "code",
   "execution_count": 36,
   "id": "12eb5d60-94f3-4a57-ae82-3acd67822287",
   "metadata": {},
   "outputs": [
    {
     "data": {
      "text/plain": [
       "'reddit.com'"
      ]
     },
     "execution_count": 36,
     "metadata": {},
     "output_type": "execute_result"
    }
   ],
   "source": [
    "data[1]['subreddit']"
   ]
  },
  {
   "cell_type": "code",
   "execution_count": null,
   "id": "2cea759b-0528-45f9-afd2-c0a4417b6918",
   "metadata": {},
   "outputs": [],
   "source": []
  }
 ],
 "metadata": {
  "kernelspec": {
   "display_name": "Python 3 (ipykernel)",
   "language": "python",
   "name": "python3"
  },
  "language_info": {
   "codemirror_mode": {
    "name": "ipython",
    "version": 3
   },
   "file_extension": ".py",
   "mimetype": "text/x-python",
   "name": "python",
   "nbconvert_exporter": "python",
   "pygments_lexer": "ipython3",
   "version": "3.9.0"
  }
 },
 "nbformat": 4,
 "nbformat_minor": 5
}
